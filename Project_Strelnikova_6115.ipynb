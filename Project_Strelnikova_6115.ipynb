{
 "cells": [
  {
   "cell_type": "markdown",
   "metadata": {},
   "source": [
    "## Стрельникова Полина Александровна"
   ]
  },
  {
   "cell_type": "markdown",
   "metadata": {},
   "source": [
    " <h1 align = \"center\"> ПОСТРОЕНИЕ ЛИНЕЙНОЙ И ПОЛИНОМИАЛЬНОЙ РЕГРЕССИИ </h1>"
   ]
  },
  {
   "cell_type": "code",
   "execution_count": 35,
   "metadata": {},
   "outputs": [],
   "source": [
    "import numpy as np\n",
    "\n",
    "import scipy.linalg as sla\n",
    "\n",
    "import matplotlib.pyplot as plt\n",
    "\n",
    "import copy\n",
    "\n",
    "import math\n",
    "\n",
    "def my_det(X):\n",
    "    width = len(X[0])\n",
    "    height = len(X)\n",
    "    det = 1\n",
    "    try:\n",
    "        width == height\n",
    "    except ValueError as e:\n",
    "        print(e)\n",
    "    i = 0\n",
    "    while i < (height - 1):\n",
    "        if X[i][i] > 0:\n",
    "            for k in range(i + 1, height):\n",
    "                if X[k][i] > 0:\n",
    "                    div = X[k][i] / X[i][i]\n",
    "                    for j in range(i, width):\n",
    "                        X[k][j] -= X[i][j] * math.fabs(div)\n",
    "                elif X[k][i] < 0:\n",
    "                    div = X[k][i] / X[i][i]\n",
    "                    for j in range(i, width):\n",
    "                        X[k][j] += X[i][j] * math.fabs(div)\n",
    "        elif X[i][i] < 0:\n",
    "            for k in range(i + 1, height):\n",
    "                if X[k][i] > 0:\n",
    "                    div = X[k][i] / X[i][i]\n",
    "                    for j in range(i, width):\n",
    "                        X[k][j] += X[i][j] * math.fabs(div)\n",
    "                elif X[k][i] < 0:\n",
    "                    div = X[k][i] / X[i][i]\n",
    "                    for j in range(i, width):\n",
    "                        X[k][j] -= X[i][j] * math.fabs(div)\n",
    "        else:\n",
    "            flag = 0\n",
    "            for s in range(i, height):\n",
    "                if X[s][i] != 0:\n",
    "                    sub = copy.copy(X[i])\n",
    "                    for n in range(i, width):\n",
    "                        X[i][n] = X[s][n]\n",
    "                        X[s][n] = sub[n]\n",
    "                    flag = 1\n",
    "                    break\n",
    "            if flag == 1:\n",
    "                i -= 1\n",
    "        i += 1\n",
    "    for h in range(height):\n",
    "        det *= X[h][h]\n",
    "\n",
    "    return det"
   ]
  },
  {
   "cell_type": "markdown",
   "metadata": {},
   "source": [
    "Попробуем самостоятельно реализовать функцию, которая считает определитель у матрицы. В pandas и numpy функции гораздо более оптимизированные и работают гораздо быстрее. Проверим программу на работоспособность, а затем визуализируем наше предположение."
   ]
  },
  {
   "cell_type": "code",
   "execution_count": 36,
   "metadata": {},
   "outputs": [
    {
     "name": "stdout",
     "output_type": "stream",
     "text": [
      "[[0 0 1]\n",
      " [0 1 0]\n",
      " [1 0 0]]\n",
      "1\n"
     ]
    }
   ],
   "source": [
    "X = np.array([[0,0,1], [0,1,0], [1,0,0]])\n",
    "print(X)\n",
    "print(my_det(X))"
   ]
  },
  {
   "cell_type": "code",
   "execution_count": 37,
   "metadata": {},
   "outputs": [
    {
     "name": "stdout",
     "output_type": "stream",
     "text": [
      "10.2 µs ± 21.2 ns per loop (mean ± std. dev. of 7 runs, 100000 loops each)\n",
      "48.4 µs ± 58 ns per loop (mean ± std. dev. of 7 runs, 10000 loops each)\n",
      "84.8 µs ± 2.22 µs per loop (mean ± std. dev. of 7 runs, 10000 loops each)\n",
      "154 ms ± 50.6 ms per loop (mean ± std. dev. of 7 runs, 1 loop each)\n",
      "819 µs ± 59.8 µs per loop (mean ± std. dev. of 7 runs, 1000 loops each)\n",
      "6.4 s ± 892 ms per loop (mean ± std. dev. of 7 runs, 1 loop each)\n"
     ]
    },
    {
     "data": {
      "text/plain": [
       "<matplotlib.legend.Legend at 0x73e9690>"
      ]
     },
     "execution_count": 37,
     "metadata": {},
     "output_type": "execute_result"
    },
    {
     "data": {
      "image/png": "[encoded data removed]",
      "text/plain": [
       "<matplotlib.figure.Figure at 0xd6b510>"
      ]
     },
     "metadata": {},
     "output_type": "display_data"
    }
   ],
   "source": [
    "lib_times = []\n",
    "my_times = []\n",
    "dimensions = [10, 100, 300]\n",
    "for dim in dimensions:\n",
    "    A = np.random.rand(dim, dim)\n",
    "    res_lib = %timeit -o sla.det(A)\n",
    "    lib_times.append(res_lib.best)\n",
    "    res_my = %timeit -o my_det(A)\n",
    "    my_times.append(res_my.best)    \n",
    "\n",
    "plt.plot(dimensions, lib_times, color='blue', label='Library function')\n",
    "plt.plot(dimensions, my_times, color='red', label='My function')\n",
    "plt.title('My function vs library function, log y scale')\n",
    "plt.ylabel('Time')\n",
    "plt.xlabel('Matrix dimension')\n",
    "plt.legend()"
   ]
  },
  {
   "cell_type": "markdown",
   "metadata": {},
   "source": [
    "И логарифмический масштаб"
   ]
  },
  {
   "cell_type": "code",
   "execution_count": 38,
   "metadata": {},
   "outputs": [
    {
     "data": {
      "text/plain": [
       "<matplotlib.legend.Legend at 0x734dbf0>"
      ]
     },
     "execution_count": 38,
     "metadata": {},
     "output_type": "execute_result"
    },
    {
     "data": {
      "image/png": "[encoded data removed]",
      "text/plain": [
       "<matplotlib.figure.Figure at 0x7d05130>"
      ]
     },
     "metadata": {},
     "output_type": "display_data"
    }
   ],
   "source": [
    "plt.semilogy(dimensions, lib_times, color='blue', label='Library function')\n",
    "plt.semilogy(dimensions, my_times, color='red', label='My function')\n",
    "plt.title('My function vs library function, log y scale')\n",
    "plt.ylabel('Time')\n",
    "plt.xlabel('Matrix dimension')\n",
    "plt.legend()"
   ]
  },
  {
   "cell_type": "markdown",
   "metadata": {},
   "source": [
    "Библиотечная функция гораздо быстрее! Теперь попробуем построить линейную регрессию"
   ]
  },
  {
   "cell_type": "markdown",
   "metadata": {},
   "source": [
    "### Метод наименьших квадратов:\n",
    "\n",
    "Рассмотрим систему уравнений $Xa = y$, в которой $a$ --- столбец неизвестных. Её можно переписать в векторном виде\n",
    "$$x_1 a_1 + x_2 a_2 + \\ldots + x_k a_k = y,$$\n",
    "где $x_1,\\ldots,x_n$ --- столбцы матрицы $X$. Таким образом, решить исходную систему означает найти линейную комбинацию векторов $x_1,\\ldots,x_n$, равную правой части. Но что делать, если такой линейной комбинации не существует? Геометрически это означает, что вектор $y$ не лежит в подпространстве $U = \\langle x_1,\\ldots, x_k\\rangle$. В этом случае мы можем найти *псевдорешение*: вектор коэффициентов $\\hat{a}$, для которого линейная комбинация $x_1 \\hat{a}_1 + x_2 \\hat{a}_2 + \\ldots + x_k \\hat{a}_k$ хоть и не равна в точности $y$, но является наилучшим приближением --- то есть ближайшей к $y$ точкой $\\hat{y}$ подпространства $U$ (иными словами, ортогональной проекцией $y$ на это подпростанство). Итак, цель наших исканий можно сформулировать двумя эквивалентными способами:\n",
    "\n",
    "1. Найти вектор $\\hat{a}$, для которого длина разности $|X\\hat{a} - y|$ минимальна (отсюда название \"метод наименьших квадратов\");\n",
    "2. Найти ортогональную проекцию $\\hat{y}$ вектора $y$ на подпространство $U$ и представить её в виде $X\\hat{a}$.\n",
    "\n",
    "Далее мы будем предполагать, что векторы $x_1,\\ldots,x_n$ линейно независимы (если нет, то сначала имеет смысл выделить максимальную линейно независимую подсистему).\n",
    "\n",
    "Проекция вектора $y$ на подпространство $U = \\langle x_1,\\ldots, x_k\\rangle$, записывается в виде\n",
    "$$\\hat{y} = X\\left(X^TX\\right)^{-1}X^Ty,$$\n",
    "и, соответственно, искомый вектор $\\hat{a}$ равен\n",
    "$$\\hat{a} = \\left(X^TX\\right)^{-1}X^Ty.$$"
   ]
  },
  {
   "cell_type": "markdown",
   "metadata": {},
   "source": [
    "Теперь проговорим общую постановку задачи линейной регрессии. У нас есть $k$ переменных $x_1,\\ldots,x_k$ (\"регрессоров\"), через которые мы хотим выразить \"объясняемую переменную\" $y$:\n",
    "$$y = a_1x_1 + a_2x_2 + \\ldots + a_kx_k$$\n",
    "Значения всех переменных мы измерили $n$ раз (у $n$ различных объектов,  в $n$ различных моментов времени - это зависит от задачи). Подставим эти данные в предыдущее равенство:\n",
    "$$\\begin{pmatrix}\n",
    "y_1\\\\ y_2 \\\\ \\vdots \\\\ y_n\n",
    "\\end{pmatrix} = \n",
    "a_1\\begin{pmatrix}\n",
    "x_{11} \\\\ x_{21} \\\\ \\vdots \\\\ x_{n1} \\end{pmatrix} + a_2\\begin{pmatrix}\n",
    "x_{12} \\\\ x_{22} \\\\ \\vdots \\\\ x_{n2} \\end{pmatrix} + \\ldots + a_k\\begin{pmatrix}\n",
    "x_{1k} \\\\ x_{2k} \\\\ \\vdots \\\\ x_{nk} \\end{pmatrix}$$\n",
    "(здесь $x_{ij}$ - это значение $j$-го признака на $i$-м измерении). Это удобно переписать в матричном виде:\n",
    "$$\\begin{pmatrix}\n",
    "x_{11} & x_{12} & \\ldots & x_{1k}\\\\\n",
    "x_{21} & x_{22} & \\ldots & x_{2k}\\\\\n",
    "\\dots & \\dots & \\dots & \\dots\\\\\n",
    "x_{n1} & x_{n2} & \\ldots & x_{nk}\n",
    "\\end{pmatrix} \\cdot\n",
    "\\begin{pmatrix}\n",
    "a_1 \\\\ a_2 \\\\ \\vdots \\\\ a_k\n",
    "\\end{pmatrix} = \n",
    "\\begin{pmatrix}\n",
    "y_1 \\\\ y_2 \\\\ \\vdots \\\\ y_n\n",
    "\\end{pmatrix}$$\n",
    "или коротко $Xa = y$. Поскольку на практике эта система уравнений зачастую не имеет решения (ибо зависимости в жизни редко бывают действительно линейными), методом наименьших квадратов ищется псевдорешение."
   ]
  },
  {
   "cell_type": "code",
   "execution_count": 39,
   "metadata": {},
   "outputs": [],
   "source": [
    "data_train = np.loadtxt('C:/Users/rowil/Downloads/train.txt', delimiter=','\n",
    "data_test = np.loadtxt('C:/Users/rowil/Downloads/test.txt', delimiter=',') \n",
    "X_train = data_train[:,0] \n",
    "y_train = data_train[:,1]\n",
    "X_test = data_test[:,0]\n",
    "y_test = data_test[:,1]"
   ]
  },
  {
   "cell_type": "code",
   "execution_count": 40,
   "metadata": {},
   "outputs": [],
   "source": [
    "X = np.array([np.ones(X_train.shape[0]), X_train]).T\n",
    "approx = np.dot(np.dot(np.linalg.inv(np.dot(X.T, X)), X.T), y_train) \n",
    "y_hat = np.dot(approx, X.T) "
   ]
  },
  {
   "cell_type": "markdown",
   "metadata": {},
   "source": [
    "Изобразим результат на графике:"
   ]
  },
  {
   "cell_type": "code",
   "execution_count": 41,
   "metadata": {},
   "outputs": [
    {
     "data": {
      "image/png": "[encoded data removed]",
      "text/plain": [
       "<matplotlib.figure.Figure at 0x72e0e30>"
      ]
     },
     "metadata": {},
     "output_type": "display_data"
    }
   ],
   "source": [
    "plt.plot(X_train, y_hat) \n",
    "plt.scatter(X_train, y_train) \n",
    "plt.show()"
   ]
  },
  {
   "cell_type": "markdown",
   "metadata": {},
   "source": [
    "Попробуем поиграться со степенями многочлена и посмотреть на результаты, а также посчитать среднеквадратичное отклонение:"
   ]
  },
  {
   "cell_type": "code",
   "execution_count": 42,
   "metadata": {},
   "outputs": [
    {
     "name": "stdout",
     "output_type": "stream",
     "text": [
      "0.39619152773843663\n",
      "0.2697696706251704\n",
      "0.2665588946468781\n",
      "0.261994027980508\n",
      "0.23852372607953973\n",
      "0.22836606999274628\n",
      "0.2227696320438727\n",
      "0.22044089364232974\n",
      "0.2191016406602476\n",
      "0.2004947242696863\n"
     ]
    },
    {
     "data": {
      "image/png": "[encoded data removed]",
      "text/plain": [
       "<matplotlib.figure.Figure at 0x73d2d30>"
      ]
     },
     "metadata": {},
     "output_type": "display_data"
    }
   ],
   "source": [
    "XS = np.ones(X_test.size).reshape(-1, 1)\n",
    "for i in range (1, 11):\n",
    "    XS = np.concatenate((XS, X_test.reshape(-1, 1)**i), axis = 1)\n",
    "    approx = np.dot(np.dot(np.linalg.inv(np.dot(XS.T, XS)), XS.T), y_test)\n",
    "    y_hat = np.dot(approx, XS.T)\n",
    "    meandev = np.sum((y_hat - y_test)**2)/(len(y_test)) \n",
    "    print(meandev)\n",
    "    if (i <= 4 or i == 6):\n",
    "        plt.plot(X_test, y_hat)\n",
    "\n",
    "plt.scatter(X_test, y_test)\n",
    "plt.show()"
   ]
  },
  {
   "cell_type": "markdown",
   "metadata": {},
   "source": [
    "Казалось бы, чем больше степень, тем более сложным будет многочлен и тем лучше он будет приближать нашу функцию. Однако мы видим ошибки на тестовых данных при $k > 10$. Это - переобучение, функция приспособлена для конкретного набора данных, а на других - ломается"
   ]
  },
  {
   "cell_type": "code",
   "execution_count": 43,
   "metadata": {},
   "outputs": [
    {
     "name": "stdout",
     "output_type": "stream",
     "text": [
      "0.39619152773843663\n",
      "0.2697696706251704\n",
      "0.2665588946468781\n",
      "0.261994027980508\n",
      "0.23852372607953973\n",
      "0.22836606999274628\n",
      "0.2227696320438727\n",
      "0.22044089364232974\n",
      "0.2191016406602476\n",
      "0.2004947242696863\n",
      "0.11620240087779839\n",
      "0.08652648160030085\n",
      "0.0888876929413826\n",
      "5.714267546065537\n",
      "4707.264093213806\n",
      "184.96973921460483\n",
      "55.12137225111602\n",
      "35.079968483612234\n"
     ]
    },
    {
     "data": {
      "image/png": "[encoded data removed]",
      "text/plain": [
       "<matplotlib.figure.Figure at 0x7d996b0>"
      ]
     },
     "metadata": {},
     "output_type": "display_data"
    }
   ],
   "source": [
    "XS = np.ones(X_test.size).reshape(-1, 1)\n",
    "for i in range (1, 19):\n",
    "    XS = np.concatenate((XS, X_test.reshape(-1, 1)**i), axis = 1)\n",
    "    approx = np.dot(np.dot(np.linalg.inv(np.dot(XS.T, XS)), XS.T), y_test)\n",
    "    y_hat = np.dot(approx, XS.T)\n",
    "    meandev = np.sum((y_hat - y_test)**2)/(len(y_test)) \n",
    "    print(meandev)\n",
    "    if (i > 15):\n",
    "        plt.plot(X_test, y_hat)\n",
    "\n",
    "plt.scatter(X_test, y_test)\n",
    "plt.show()\n",
    "#переобучение"
   ]
  },
  {
   "cell_type": "markdown",
   "metadata": {},
   "source": [
    "Теперь опробуем полиномиальную регрессию. Загрузим файл ``flats_moscow_mod.txt`` из открытого доступа. В нём содержатся данные о квартирах в Москве. Каждая строка содержит шесть характеристик некоторой квартиры, разделённые знаками табуляции; в первой строке записаны кодовые названия характеристик.\n",
    "\n",
    "Оценим качество приближения, вычислив среднеквадратическую ошибку и найдя регрессионные коэффициенты. "
   ]
  },
  {
   "cell_type": "code",
   "execution_count": 44,
   "metadata": {},
   "outputs": [
    {
     "name": "stdout",
     "output_type": "stream",
     "text": [
      "coefficients\n",
      "totsp :  1.4870528861258758\n",
      "livesp :  1.6562890012269242\n",
      "kitsp :  1.8192049792746974\n",
      "dist :  -3.3271540562741433\n",
      "metrdist :  -1.3156886037015993\n",
      "mean_square_error  924.0090032083975\n"
     ]
    }
   ],
   "source": [
    "data_flats = np.loadtxt('C:/Users/rowil/Downloads/flats_moscow_mod.txt', skiprows = 1, delimiter='\\t')\n",
    "price = data_flats[:,0]\n",
    "characts = data_flats[:,1:]\n",
    "ones_mat = np.array(np.mat((np.ones(len(characts))))).T\n",
    "characts = np.concatenate((characts, ones_mat), axis = 1)\n",
    "koeffs = np.dot(np.dot(sla.inv(np.dot(characts.T, characts)), characts.T), price)\n",
    "print ('coefficients')\n",
    "names = ['totsp', 'livesp', 'kitsp', 'dist', 'metrdist'] \n",
    "for i in range (5):\n",
    "    print(names[i], ': ', koeffs[i]) \n",
    "\n",
    "mean_square_error_f = 0\n",
    "for i in range (len(characts)):\n",
    "    my_price = 0\n",
    "    for j in range (len(characts[0])):\n",
    "        my_price += characts[i][j] * koeffs[j]\n",
    "    mean_square_error_f += (my_price - price[i])**2\n",
    "mean_square_error_f /= len(characts)\n",
    "print ('mean_square_error ', mean_square_error_f)"
   ]
  },
  {
   "cell_type": "markdown",
   "metadata": {},
   "source": [
    "Очевидно, что вся суть машинного обучения как раз в том, что у разных коэффициентов должны быть разные веса, от которых зависит, на сколько сильно они будут влиять на итоговый параметр. Попробуем немного другую модель и сравним с предыдущей по среднеквадратичной ошибке, используя `sklearn.model_selection.train_test_split` для более объективного разделения данных на тестовую и рабочую выборки:"
   ]
  },
  {
   "cell_type": "code",
   "execution_count": 45,
   "metadata": {},
   "outputs": [
    {
     "name": "stdout",
     "output_type": "stream",
     "text": [
      "[   1.4089617     2.040249      1.60780591  188.18111623   40.71737995\n",
      " -111.53876103]\n",
      "mean_square_error  676.8058661079192\n"
     ]
    }
   ],
   "source": [
    "import sklearn.model_selection\n",
    "data_flats_new = data_flats.copy()\n",
    "data_flats_new[:,4] = 1 / data_flats_new[:,4]\n",
    "data_flats_new[:,5] = 1 / data_flats_new[:,5]\n",
    "flat_train, flat_test = sklearn.model_selection.train_test_split(data_flats_new)\n",
    "price_train = flat_train[:,0]\n",
    "characts_train = flat_train[:,1:]\n",
    "ones_mat_train = np.array(np.mat((np.ones(len(characts_train))))).T\n",
    "characts_train = np.concatenate((characts_train, ones_mat_train), axis = 1)\n",
    "koeffs_new = np.dot(np.dot(sla.inv(np.dot(characts_train.T, characts_train)), characts_train.T), price_train)\n",
    "print(koeffs_new)\n",
    "mean_square_error_new = 0\n",
    "price_test = flat_test[:,0]\n",
    "characts_test = flat_test[:,1:]\n",
    "ones_mat_test = np.array(np.mat((np.ones(len(characts_test))))).T\n",
    "characts_test = np.concatenate((characts_test, ones_mat_test), axis = 1)\n",
    "for i in range (len(characts_test)):\n",
    "    my_price = 0\n",
    "    for j in range (len(characts_test[0])):\n",
    "        my_price += characts_test[i][j] * koeffs_new[j]\n",
    "    mean_square_error_new += (my_price - price_test[i])**2\n",
    "mean_square_error_new /= len(characts_test)\n",
    "print ('mean_square_error ', mean_square_error_new)\n"
   ]
  },
  {
   "cell_type": "markdown",
   "metadata": {},
   "source": [
    "Видим, что наша новая модель работает значительно лучше!"
   ]
  }
 ],
 "metadata": {
  "kernelspec": {
   "display_name": "Python 2",
   "language": "python",
   "name": "python2"
  },
  "language_info": {
   "codemirror_mode": {
    "name": "ipython",
    "version": 2
   },
   "file_extension": ".py",
   "mimetype": "text/x-python",
   "name": "python",
   "nbconvert_exporter": "python",
   "pygments_lexer": "ipython2",
   "version": "2.7.14"
  }
 },
 "nbformat": 4,
 "nbformat_minor": 2
}
